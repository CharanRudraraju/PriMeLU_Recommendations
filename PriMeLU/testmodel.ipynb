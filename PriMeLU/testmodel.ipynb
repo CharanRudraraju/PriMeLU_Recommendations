{
 "cells": [
  {
   "cell_type": "code",
   "execution_count": 2,
   "metadata": {},
   "outputs": [],
   "source": [
    "import os\n",
    "import torch\n",
    "import pickle\n",
    "\n",
    "from PriMeLU import PriMeLU\n",
    "from options import config\n",
    "from model_training import training\n",
    "from data_generation import generate\n",
    "from evidence_candidate import selection\n",
    "from torch.nn import functional as F\n",
    "import numpy as np\n",
    "from tqdm import tqdm\n",
    "\n",
    "# importing the required module\n",
    "import matplotlib.pyplot as plt"
   ]
  },
  {
   "cell_type": "markdown",
   "metadata": {},
   "source": [
    "## Data Generation"
   ]
  },
  {
   "cell_type": "code",
   "execution_count": null,
   "metadata": {},
   "outputs": [],
   "source": [
    "master_path= \"./ml\"\n",
    "if not os.path.exists(\"{}/\".format(master_path)):\n",
    "    os.mkdir(\"{}/\".format(master_path))\n",
    "    # preparing dataset. It needs about 22GB of your hard disk space.\n",
    "    generate(master_path)"
   ]
  },
  {
   "cell_type": "markdown",
   "metadata": {},
   "source": [
    "## Model Training"
   ]
  },
  {
   "cell_type": "code",
   "execution_count": null,
   "metadata": {},
   "outputs": [],
   "source": [
    "# training model.\n",
    "primelu = PriMeLU(config)\n",
    "model_filename = \"{}/models.pkl\".format(master_path)\n",
    "if not os.path.exists(model_filename):\n",
    "    # Load training dataset.\n",
    "    training_set_size = int(len(os.listdir(\"{}/warm_state\".format(master_path))) / 4)\n",
    "    supp_xs_s = []\n",
    "    supp_ys_s = []\n",
    "    query_xs_s = []\n",
    "    query_ys_s = []\n",
    "    for idx in tqdm(range(training_set_size)):\n",
    "        supp_xs_s.append(pickle.load(open(\"{}/warm_state/supp_x_{}.pkl\".format(master_path, idx), \"rb\")))\n",
    "        supp_ys_s.append(pickle.load(open(\"{}/warm_state/supp_y_{}.pkl\".format(master_path, idx), \"rb\")))\n",
    "        query_xs_s.append(pickle.load(open(\"{}/warm_state/query_x_{}.pkl\".format(master_path, idx), \"rb\")))\n",
    "        query_ys_s.append(pickle.load(open(\"{}/warm_state/query_y_{}.pkl\".format(master_path, idx), \"rb\")))\n",
    "    total_dataset = list(zip(supp_xs_s, supp_ys_s, query_xs_s, query_ys_s))\n",
    "    del(supp_xs_s, supp_ys_s, query_xs_s, query_ys_s)\n",
    "    training(primelu, total_dataset, batch_size=config['batch_size'], num_epoch=config['num_epoch'], model_save=True, model_filename=model_filename)"
   ]
  },
  {
   "cell_type": "markdown",
   "metadata": {},
   "source": [
    "## Model Testing For Warm State"
   ]
  },
  {
   "cell_type": "code",
   "execution_count": null,
   "metadata": {},
   "outputs": [],
   "source": [
    "training_set_size = int(len(os.listdir(\"{}/warm_state\".format(master_path))) / 4)\n",
    "supp_xs_s = []\n",
    "supp_ys_s = []\n",
    "query_xs_s = []\n",
    "query_ys_s = []\n",
    "for idx in range(training_set_size):\n",
    "    supp_xs_s.append(pickle.load(open(\"{}/warm_state/supp_x_{}.pkl\".format(master_path, idx), \"rb\")))\n",
    "    supp_ys_s.append(pickle.load(open(\"{}/warm_state/supp_y_{}.pkl\".format(master_path, idx), \"rb\")))\n",
    "    query_xs_s.append(pickle.load(open(\"{}/warm_state/query_x_{}.pkl\".format(master_path, idx), \"rb\")))\n",
    "    query_ys_s.append(pickle.load(open(\"{}/warm_state/query_y_{}.pkl\".format(master_path, idx), \"rb\")))\n",
    "trained_state_dict = torch.load(model_filename)\n",
    "primelu.load_state_dict(trained_state_dict)\n",
    "final_loss_mae = []\n",
    "for i in range(training_set_size):\n",
    "    prediction = primelu.forward(supp_xs_s[i].cuda(),supp_ys_s[i].cuda(),query_xs_s[i].cuda(),5)\n",
    "    loss1 = F.l1_loss(prediction,query_ys_s[i].cuda().view(-1,1))\n",
    "    final_loss_mae.append(loss1.item())\n",
    "warm_state_test_loss = np.mean(final_loss_mae)"
   ]
  }
 ],
 "metadata": {
  "interpreter": {
   "hash": "63ebc049be10adb1709b7676ac71265e43c44d68d88e50996a5cb722080e50af"
  },
  "kernelspec": {
   "display_name": "Python 3.6.13 ('charan-fyp')",
   "language": "python",
   "name": "python3"
  },
  "language_info": {
   "codemirror_mode": {
    "name": "ipython",
    "version": 3
   },
   "file_extension": ".py",
   "mimetype": "text/x-python",
   "name": "python",
   "nbconvert_exporter": "python",
   "pygments_lexer": "ipython3",
   "version": "3.6.13"
  },
  "orig_nbformat": 4
 },
 "nbformat": 4,
 "nbformat_minor": 2
}
